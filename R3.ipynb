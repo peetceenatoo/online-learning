{
 "cells": [
  {
   "cell_type": "markdown",
   "id": "cf2a7168",
   "metadata": {},
   "source": [
    "# Project - Third Requirement"
   ]
  },
  {
   "cell_type": "markdown",
   "id": "1bd01f3a",
   "metadata": {},
   "source": [
    "### Include packages."
   ]
  },
  {
   "cell_type": "code",
   "execution_count": 1,
   "id": "392392f9",
   "metadata": {},
   "outputs": [],
   "source": [
    "import numpy as np\n",
    "import matplotlib \n",
    "import matplotlib.pyplot as plt\n",
    "from scipy.stats import norm, gamma\n",
    "from itertools import product\n",
    "from scipy.optimize import linprog"
   ]
  },
  {
   "cell_type": "markdown",
   "id": "79ab8809",
   "metadata": {},
   "source": [
    "### As usual, as first, define the environment."
   ]
  },
  {
   "cell_type": "code",
   "execution_count": 2,
   "id": "e0ace4a9",
   "metadata": {},
   "outputs": [],
   "source": [
    "class Environment:\n",
    "    def __init__(self):\n",
    "        pass\n",
    "    def round(self, a_t):\n",
    "        pass"
   ]
  },
  {
   "cell_type": "code",
   "execution_count": null,
   "id": "5cd71690",
   "metadata": {},
   "outputs": [],
   "source": [
    "# Here we model the probability of buying around the mean valuation as a gaussian distribution...\n",
    "# ... but its mean keeps varying as it is sampled - more into detail, from two possible distributions.\n",
    "class PricingEnvironmentSingleProductMultiDistribution(Environment):\n",
    "    def __init__(self, cost, dist_1_params, dist_2_params, buyers_per_round, std_val):\n",
    "        self.N = len(cost)\n",
    "        self.cost = cost\n",
    "        self.dist_1_params = dist_1_params\n",
    "        self.dist_2_params = dist_2_params\n",
    "        self.buyers_per_round = buyers_per_round\n",
    "        self.std_val = std_val\n",
    "\n",
    "    def round(self, p_t, dist):\n",
    "        # It is possible to choose between two distributions (possibly randomly, user's choice)...\n",
    "        if dist % 2 == 0:\n",
    "            mean_val = self.dist_1_params[0]\n",
    "            std_val = self.dist_1_params[1]\n",
    "            sample_valuation = norm.rvs(loc=mean_val, scale=std_val)\n",
    "        else:\n",
    "            shape = self.dist_2_params[0]\n",
    "            scale = self.dist_2_params[1]\n",
    "            sample_valuation = gamma.rvs(a=shape, scale=scale)\n",
    "        \n",
    "        # We sample the gaussian mean (where probability of buying is 50%) from the chosen distribution... \n",
    "        # ...  and get the probability of a single customer buying at price (quantile) p_t\n",
    "        prob_buy = 1 - norm.cdf(p_t, loc=sample_valuation, scale=self.std_val)\n",
    "        \n",
    "        # Number of sales is then drawn from a binomial distribution\n",
    "        num_of_sales = np.random.binomial(n=self.buyers_per_round, p=prob_buy)\n",
    "        \n",
    "        reward = (p_t - self.cost) * num_of_sales\n",
    "        return num_of_sales, reward"
   ]
  },
  {
   "cell_type": "code",
   "execution_count": null,
   "id": "5335d9de",
   "metadata": {},
   "outputs": [],
   "source": [
    "class PricingEnvironmentSingleProductSinusoidalMean(Environment):\n",
    "    def __init__(self, cost, initial_base_mean_valuation, std_valuation, buyers_per_round, total_rounds, amplitude, frequency):\n",
    "        self.cost = cost\n",
    "        self.initial_base_mean_valuation = initial_base_mean_valuation\n",
    "        self.std_valuation = std_valuation\n",
    "        self.buyers_per_round = buyers_per_round\n",
    "        self.total_rounds = total_rounds            # Needed to define the full cycle\n",
    "        self.current_round = 0                      # To track time\n",
    "        self.amplitude = amplitude                  # How much the mean valuation swings up and down\n",
    "        self.frequency = frequency                  # How many rounds it takes to complete one full cycle\n",
    "\n",
    "    def round(self, p_t):\n",
    "        current_mean_valuation = self.initial_base_mean_valuation + self.amplitude * np.sin(2 * np.pi * self.current_round / self.frequency)\n",
    "\n",
    "        # Probability of a single customer buying at price p_t\n",
    "        # loc=current_mean_valuation means the center of the valuation distribution shifts\n",
    "        prob_buy = 1 - norm.cdf(p_t, loc=current_mean_valuation, scale=self.std_valuation)\n",
    "\n",
    "        # Ensure probability is within valid range [0, 1] due to extreme values in sine wave\n",
    "        prob_buy = np.clip(prob_buy, 0, 1)\n",
    "\n",
    "        # Number of sales is drawn from a binomial distribution\n",
    "        num_of_sales = np.random.binomial(n=self.buyers_per_round, p=prob_buy)\n",
    "\n",
    "        reward = (p_t - self.cost) * num_of_sales\n",
    "        \n",
    "        self.current_round += 1 # Advance the environment's internal clock\n",
    "        return num_of_sales, reward"
   ]
  },
  {
   "cell_type": "code",
   "execution_count": null,
   "id": "b8096408",
   "metadata": {},
   "outputs": [],
   "source": [
    "class PricingEnvironmentSingleProductDriftingMean(Environment):\n",
    "    def __init__(self, cost, initial_mean_valuation, std_valuation, buyers_per_round, drift_rate):\n",
    "        self.cost = cost\n",
    "        self.initial_mean_valuation = initial_mean_valuation\n",
    "        self.std_valuation = std_valuation\n",
    "        self.buyers_per_round = buyers_per_round\n",
    "        self.drift_rate = drift_rate            # How much the mean valuation changes per round\n",
    "        self.current_round = 0                  # To track time\n",
    "\n",
    "    def round(self, p_t):\n",
    "        current_mean_valuation = self.initial_mean_valuation + (self.current_round * self.drift_rate)\n",
    "\n",
    "        # Probability of a single customer buying at price p_t\n",
    "        # loc=current_mean_valuation means the center of the valuation distribution shifts\n",
    "        prob_buy = 1 - norm.cdf(p_t, loc=current_mean_valuation, scale=self.std_valuation)\n",
    "\n",
    "        # Ensure probability is within valid range [0, 1] (important if drift leads to very high/low valuations)\n",
    "        prob_buy = np.clip(prob_buy, 0, 1)\n",
    "\n",
    "        # Number of sales is drawn from a binomial distribution\n",
    "        num_of_sales = np.random.binomial(n=self.buyers_per_round, p=prob_buy)\n",
    "\n",
    "        reward = (p_t - self.cost) * num_of_sales\n",
    "        \n",
    "        self.current_round += 1 # Advance the environment's internal clock\n",
    "        return num_of_sales, reward"
   ]
  },
  {
   "cell_type": "markdown",
   "id": "b4cc0eac",
   "metadata": {},
   "source": [
    "### Now define the setting..."
   ]
  },
  {
   "cell_type": "code",
   "execution_count": null,
   "id": "a2c13046",
   "metadata": {},
   "outputs": [],
   "source": [
    "# --- Global Settings ---\n",
    "\n",
    "N = 1                     # Number of products (unused in this version)\n",
    "T = 20000                 # Time horizon (number of rounds)\n",
    "n_trials = 10             # Number of independent trials for averaging\n",
    "\n",
    "# --- Pricing Grid and Product Info ---\n",
    "\n",
    "cost = 2.00                       # Unit production cost\n",
    "value = 3.00                      # True mean customer valuation\n",
    "std_valuation = 1.0               # Standard deviation of customer valuations\n",
    "\n",
    "min_p = 0.0\n",
    "max_p = int(value * 2)\n",
    "price_step = 0.5\n",
    "P = np.linspace(min_p, max_p, int((max_p - min_p) / price_step) + 1)    # Discrete set of prices\n",
    "K = len(P)                                                              # Number of price options (arms)\n",
    "\n",
    "assert cost < value , \"Cost must be less than value\"\n",
    "\n",
    "# --- Market and Inventory Parameters ---\n",
    "\n",
    "B = 120000 * N                          # Total inventory available (seller capacity)\n",
    "\n",
    "# --- Derived Buyer Generation per Round ---\n",
    "\n",
    "buyers_per_round = 50                   # Number of buyers per round per product\n",
    "assert buyers_per_round >= 1, \"Must have at least one buyer per round\"\n",
    "\n",
    "# --- Other Parameters ---\n",
    "\n",
    "zoom = 0.001              # Zoom factor for plotting\n",
    "s = 30                    # random seed"
   ]
  }
 ],
 "metadata": {
  "kernelspec": {
   "display_name": "Python 3",
   "language": "python",
   "name": "python3"
  },
  "language_info": {
   "codemirror_mode": {
    "name": "ipython",
    "version": 3
   },
   "file_extension": ".py",
   "mimetype": "text/x-python",
   "name": "python",
   "nbconvert_exporter": "python",
   "pygments_lexer": "ipython3",
   "version": "3.13.3"
  }
 },
 "nbformat": 4,
 "nbformat_minor": 5
}
