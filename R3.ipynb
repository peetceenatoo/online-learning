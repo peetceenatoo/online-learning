{
 "cells": [
  {
   "cell_type": "markdown",
   "id": "cf2a7168",
   "metadata": {},
   "source": [
    "# Project - Third Requirement"
   ]
  },
  {
   "cell_type": "markdown",
   "id": "1bd01f3a",
   "metadata": {},
   "source": [
    "### Include packages."
   ]
  },
  {
   "cell_type": "code",
   "execution_count": 1,
   "id": "392392f9",
   "metadata": {},
   "outputs": [],
   "source": [
    "import numpy as np\n",
    "import matplotlib \n",
    "import matplotlib.pyplot as plt\n",
    "from scipy.stats import norm, gamma\n",
    "from itertools import product\n",
    "from scipy.optimize import linprog"
   ]
  },
  {
   "cell_type": "markdown",
   "id": "79ab8809",
   "metadata": {},
   "source": [
    "### As usual, as first, define the environment."
   ]
  },
  {
   "cell_type": "code",
   "execution_count": 2,
   "id": "e0ace4a9",
   "metadata": {},
   "outputs": [],
   "source": [
    "class Environment:\n",
    "    def __init__(self):\n",
    "        pass\n",
    "    def round(self, a_t):\n",
    "        pass"
   ]
  },
  {
   "cell_type": "code",
   "execution_count": null,
   "id": "5cd71690",
   "metadata": {},
   "outputs": [],
   "source": [
    "#In this case the valuation of the product is sampled from different distribution at each round\n",
    "# dist_1_params and dist_2_params contains the parameters of the two distribution from which the valuations will be sampled\n",
    "class PricingEnvironmentSingleProductMultiDistribution(Environment):\n",
    "    def __init__(self, cost, dist_1_params, dist_2_params, buyers_per_round, std_val):\n",
    "        self.N = len(cost)\n",
    "        self.cost = cost\n",
    "        self.dist_1_params = dist_1_params\n",
    "        self.dist_2_params = dist_2_params\n",
    "        self.buyers_per_round = buyers_per_round\n",
    "        self.std_val = std_val\n",
    "\n",
    "    def round(self, p_t, dist):\n",
    "        # Simply if dist is even sample from dist_1, if dist is odd sample from dist_2\n",
    "        # In this case the valuation of the buyers change at each round\n",
    "        if dist % 2 == 0:\n",
    "            mean_val = self.dist_1_params[0]\n",
    "            std_val = self.dist_1_params[1]\n",
    "            sample_valuation = norm.rvs(loc=mean_val, scale=std_val)\n",
    "        else:\n",
    "            shape = self.dist_2_params[0]\n",
    "            scale = self.dist_2_params[1]\n",
    "            sample_valuation = gamma.rvs(a=shape, scale=scale)\n",
    "        \n",
    "        # Use as mean of the evaluation the sample from the previous distributions\n",
    "        # Probability of a single customer buying at price p_t\n",
    "        prob_buy = 1 - norm.cdf(p_t, loc=sample_valuation, scale=self.std_val)\n",
    "        \n",
    "        # Number of sales is drawn from a binomial distribution\n",
    "        num_of_sales = np.random.binomial(n=self.buyers_per_round, p=prob_buy)\n",
    "        \n",
    "        reward = (p_t - self.cost) * num_of_sales\n",
    "        return num_of_sales, reward\n",
    "            \n"
   ]
  }
 ],
 "metadata": {
  "kernelspec": {
   "display_name": "Python 3",
   "language": "python",
   "name": "python3"
  },
  "language_info": {
   "codemirror_mode": {
    "name": "ipython",
    "version": 3
   },
   "file_extension": ".py",
   "mimetype": "text/x-python",
   "name": "python",
   "nbconvert_exporter": "python",
   "pygments_lexer": "ipython3",
   "version": "3.13.3"
  }
 },
 "nbformat": 4,
 "nbformat_minor": 5
}
